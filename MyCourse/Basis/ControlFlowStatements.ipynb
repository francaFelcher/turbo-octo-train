{
 "cells": [
  {
   "cell_type": "markdown",
   "id": "ac423cfc-f414-4eda-ac02-bdf251d88f3d",
   "metadata": {},
   "source": [
    "# If Statement"
   ]
  },
  {
   "cell_type": "markdown",
   "id": "31f23eb5-d1b1-4461-929d-c0883f156895",
   "metadata": {},
   "source": [
    "if <contition>:\n",
    "    <code>\n",
    "elif <condition>:\n",
    "    <code>\n",
    "...\n",
    "else:\n",
    "    <code>"
   ]
  },
  {
   "cell_type": "code",
   "execution_count": 10,
   "id": "a0c02e2c-f4bc-4270-bf18-73e01db149cb",
   "metadata": {},
   "outputs": [
    {
     "name": "stdout",
     "output_type": "stream",
     "text": [
      "You're a teenager\n"
     ]
    }
   ],
   "source": [
    "age = 13\n",
    "\n",
    "if age>=18:\n",
    "    print(\"You're an adult\")\n",
    "elif age>=13:\n",
    "    print(\"You're a teenager\")\n",
    "else:\n",
    "    print(\"You're a kid\")"
   ]
  },
  {
   "cell_type": "markdown",
   "id": "5bd728f5-4a89-4630-855b-8835656ea075",
   "metadata": {},
   "source": [
    "# For Loop"
   ]
  },
  {
   "cell_type": "markdown",
   "id": "0b3aab86-1ff7-4557-b87d-eb5c36b774ea",
   "metadata": {},
   "source": [
    "for <variable> in <iterable>:\n",
    "    <code>"
   ]
  },
  {
   "cell_type": "code",
   "execution_count": 11,
   "id": "0ab1c663-7c8d-474f-9a37-68c120b8fd11",
   "metadata": {},
   "outputs": [],
   "source": [
    "countries = [\"US\", \"UK\", \"India\", \"Albania\"]"
   ]
  },
  {
   "cell_type": "code",
   "execution_count": 12,
   "id": "e6c37e5c-a575-4b2a-ac5a-b7054c715f82",
   "metadata": {},
   "outputs": [
    {
     "data": {
      "text/plain": [
       "['US', 'UK', 'India', 'Albania']"
      ]
     },
     "execution_count": 12,
     "metadata": {},
     "output_type": "execute_result"
    }
   ],
   "source": [
    "countries"
   ]
  },
  {
   "cell_type": "code",
   "execution_count": 13,
   "id": "c44857a1-9480-4dde-8e1e-be06967f5d7e",
   "metadata": {},
   "outputs": [
    {
     "name": "stdout",
     "output_type": "stream",
     "text": [
      "US\n",
      "UK\n",
      "India\n",
      "Albania\n"
     ]
    }
   ],
   "source": [
    "for country in countries:\n",
    "    print(country)"
   ]
  },
  {
   "cell_type": "code",
   "execution_count": 16,
   "id": "2df1ec0a-d947-4cb9-8fc2-db190b7894b0",
   "metadata": {},
   "outputs": [
    {
     "name": "stdout",
     "output_type": "stream",
     "text": [
      "0\n",
      "US\n",
      "1\n",
      "UK\n",
      "2\n",
      "India\n",
      "3\n",
      "Albania\n"
     ]
    }
   ],
   "source": [
    "for i, country in enumerate(countries):\n",
    "    print(i)\n",
    "    print(country)"
   ]
  },
  {
   "cell_type": "code",
   "execution_count": 17,
   "id": "13822554-5539-44b9-9024-7e5dd618f834",
   "metadata": {},
   "outputs": [
    {
     "name": "stdout",
     "output_type": "stream",
     "text": [
      "(0, 'US')\n",
      "(1, 'UK')\n",
      "(2, 'India')\n",
      "(3, 'Albania')\n"
     ]
    }
   ],
   "source": [
    "for country in enumerate(countries):\n",
    "    print(country)"
   ]
  },
  {
   "cell_type": "code",
   "execution_count": 19,
   "id": "959daa1c-1bf9-4d3c-be71-7ab3fb65b12b",
   "metadata": {},
   "outputs": [],
   "source": [
    "myData = {\"name\":\"Frank\", \"age\":26}"
   ]
  },
  {
   "cell_type": "code",
   "execution_count": 21,
   "id": "93e3f32c-30a0-493a-a562-6d42e93ecce5",
   "metadata": {},
   "outputs": [
    {
     "name": "stdout",
     "output_type": "stream",
     "text": [
      "name\n",
      "Frank\n",
      "age\n",
      "26\n"
     ]
    }
   ],
   "source": [
    "for key, value in myData.items():\n",
    "    print(key)\n",
    "    print(value)"
   ]
  }
 ],
 "metadata": {
  "kernelspec": {
   "display_name": "python-starter",
   "language": "python",
   "name": "conda-env-python-starter"
  },
  "language_info": {
   "codemirror_mode": {
    "name": "ipython",
    "version": 3
   },
   "file_extension": ".py",
   "mimetype": "text/x-python",
   "name": "python",
   "nbconvert_exporter": "python",
   "pygments_lexer": "ipython3",
   "version": "3.11.11"
  }
 },
 "nbformat": 4,
 "nbformat_minor": 5
}
