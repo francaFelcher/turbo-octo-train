{
 "cells": [
  {
   "cell_type": "markdown",
   "id": "85910250-a682-4660-a789-4ff155bd9e7d",
   "metadata": {},
   "source": [
    "# List"
   ]
  },
  {
   "cell_type": "code",
   "execution_count": 2,
   "id": "f5a80342-68dc-4d59-ac95-ed496e074e39",
   "metadata": {},
   "outputs": [],
   "source": [
    "countries = [\"United States\", \"India\", \"China\", \"Brazil\"]"
   ]
  },
  {
   "cell_type": "code",
   "execution_count": 3,
   "id": "e80d1723-fe05-4ae9-836e-4e29701a5bf5",
   "metadata": {},
   "outputs": [
    {
     "data": {
      "text/plain": [
       "['United States', 'India', 'China', 'Brazil']"
      ]
     },
     "execution_count": 3,
     "metadata": {},
     "output_type": "execute_result"
    }
   ],
   "source": [
    "countries"
   ]
  },
  {
   "cell_type": "code",
   "execution_count": 4,
   "id": "d75fb3b7-8331-4128-b64d-bfa7d57023e6",
   "metadata": {},
   "outputs": [
    {
     "data": {
      "text/plain": [
       "'United States'"
      ]
     },
     "execution_count": 4,
     "metadata": {},
     "output_type": "execute_result"
    }
   ],
   "source": [
    "countries[0]"
   ]
  },
  {
   "cell_type": "code",
   "execution_count": 6,
   "id": "902327cc-c0aa-4fcc-9c92-6838be41cd87",
   "metadata": {},
   "outputs": [
    {
     "name": "stdout",
     "output_type": "stream",
     "text": [
      "United States\n",
      "India\n",
      "China\n",
      "Brazil\n"
     ]
    }
   ],
   "source": [
    "print(countries[0])\n",
    "print(countries[1])\n",
    "print(countries[2])\n",
    "print(countries[3])"
   ]
  },
  {
   "cell_type": "code",
   "execution_count": 7,
   "id": "389e1f70-f772-4f76-9762-b54553c5a8e2",
   "metadata": {},
   "outputs": [
    {
     "name": "stdout",
     "output_type": "stream",
     "text": [
      "Brazil\n",
      "China\n",
      "India\n",
      "United States\n"
     ]
    }
   ],
   "source": [
    "print(countries[-1])\n",
    "print(countries[-2])\n",
    "print(countries[-3])\n",
    "print(countries[-4])"
   ]
  },
  {
   "cell_type": "code",
   "execution_count": 9,
   "id": "203e6988-5cd0-43df-9ed8-f8f5f6d14338",
   "metadata": {},
   "outputs": [],
   "source": [
    "# slicing\n",
    "# list_name[start:stop]"
   ]
  },
  {
   "cell_type": "code",
   "execution_count": 10,
   "id": "2e5e40e7-7e10-420b-9780-74ad2795468a",
   "metadata": {},
   "outputs": [
    {
     "data": {
      "text/plain": [
       "['United States', 'India', 'China']"
      ]
     },
     "execution_count": 10,
     "metadata": {},
     "output_type": "execute_result"
    }
   ],
   "source": [
    "countries[0:3]"
   ]
  },
  {
   "cell_type": "code",
   "execution_count": 11,
   "id": "cb4440d4-b8d6-42c7-8943-d7e91b7eb942",
   "metadata": {},
   "outputs": [
    {
     "data": {
      "text/plain": [
       "['United States']"
      ]
     },
     "execution_count": 11,
     "metadata": {},
     "output_type": "execute_result"
    }
   ],
   "source": [
    "countries[0:1]"
   ]
  },
  {
   "cell_type": "code",
   "execution_count": 12,
   "id": "dde82416-6c78-4b2d-9069-c67a4661b83d",
   "metadata": {},
   "outputs": [
    {
     "data": {
      "text/plain": [
       "['India', 'China', 'Brazil']"
      ]
     },
     "execution_count": 12,
     "metadata": {},
     "output_type": "execute_result"
    }
   ],
   "source": [
    "countries[1:4]"
   ]
  },
  {
   "cell_type": "code",
   "execution_count": 13,
   "id": "c2ae1b5b-3263-44b1-9486-c5df600e1de8",
   "metadata": {},
   "outputs": [
    {
     "data": {
      "text/plain": [
       "['India', 'China', 'Brazil']"
      ]
     },
     "execution_count": 13,
     "metadata": {},
     "output_type": "execute_result"
    }
   ],
   "source": [
    "countries[1:]"
   ]
  },
  {
   "cell_type": "code",
   "execution_count": 15,
   "id": "208fbd23-c5e6-4c83-bcf3-10de84124165",
   "metadata": {},
   "outputs": [
    {
     "data": {
      "text/plain": [
       "['United States', 'India']"
      ]
     },
     "execution_count": 15,
     "metadata": {},
     "output_type": "execute_result"
    }
   ],
   "source": [
    "countries[:2]"
   ]
  },
  {
   "cell_type": "markdown",
   "id": "bb029a10-24c6-4fbc-b68a-258c5549b60c",
   "metadata": {},
   "source": [
    "#### ADDING ELEMENTS TO A LIST"
   ]
  },
  {
   "cell_type": "code",
   "execution_count": 29,
   "id": "ad2d4c62-633a-423c-bef4-b02331d3e749",
   "metadata": {},
   "outputs": [],
   "source": [
    "countries.append(\"Canada\")"
   ]
  },
  {
   "cell_type": "code",
   "execution_count": 31,
   "id": "0ec998bb-7988-48b2-a2af-c83f47a832d5",
   "metadata": {},
   "outputs": [
    {
     "data": {
      "text/plain": [
       "['United States', 'India', 'China', 'Brazil', 'Canada']"
      ]
     },
     "execution_count": 31,
     "metadata": {},
     "output_type": "execute_result"
    }
   ],
   "source": [
    "countries"
   ]
  },
  {
   "cell_type": "code",
   "execution_count": 33,
   "id": "15e3aca2-4eb1-4c1b-a84f-cf736f8ba961",
   "metadata": {},
   "outputs": [],
   "source": [
    "countries.insert(0, \"Spain\")"
   ]
  },
  {
   "cell_type": "code",
   "execution_count": 36,
   "id": "ecbb7f6b-234d-4217-b241-ed08bd223fdf",
   "metadata": {},
   "outputs": [
    {
     "data": {
      "text/plain": [
       "['Spain', 'United States', 'India', 'China', 'Brazil', 'Canada']"
      ]
     },
     "execution_count": 36,
     "metadata": {},
     "output_type": "execute_result"
    }
   ],
   "source": [
    "countries"
   ]
  },
  {
   "cell_type": "code",
   "execution_count": 37,
   "id": "d39ea80b-5807-4ec0-a7be-d9fe27a6b3a2",
   "metadata": {},
   "outputs": [],
   "source": [
    "countries2 = [\"UK\", \"Germany\", \"Austria\"]"
   ]
  },
  {
   "cell_type": "code",
   "execution_count": 38,
   "id": "f29b7ae5-b9f9-44fe-bdec-5d1582370ac9",
   "metadata": {},
   "outputs": [
    {
     "data": {
      "text/plain": [
       "['Spain',\n",
       " 'United States',\n",
       " 'India',\n",
       " 'China',\n",
       " 'Brazil',\n",
       " 'Canada',\n",
       " 'UK',\n",
       " 'Germany',\n",
       " 'Austria']"
      ]
     },
     "execution_count": 38,
     "metadata": {},
     "output_type": "execute_result"
    }
   ],
   "source": [
    "countries + countries2"
   ]
  },
  {
   "cell_type": "code",
   "execution_count": 39,
   "id": "52afa41f-23fe-481b-aa8a-6298560f6176",
   "metadata": {},
   "outputs": [],
   "source": [
    "nested_list = [countries, countries2]"
   ]
  },
  {
   "cell_type": "code",
   "execution_count": 40,
   "id": "9ccc48a3-fc4e-4fe6-b0e5-09723a46f5af",
   "metadata": {},
   "outputs": [
    {
     "data": {
      "text/plain": [
       "[['Spain', 'United States', 'India', 'China', 'Brazil', 'Canada'],\n",
       " ['UK', 'Germany', 'Austria']]"
      ]
     },
     "execution_count": 40,
     "metadata": {},
     "output_type": "execute_result"
    }
   ],
   "source": [
    "nested_list"
   ]
  },
  {
   "cell_type": "markdown",
   "id": "4fa1f51e-a7fe-4cd7-a06a-6fc1aa1542b2",
   "metadata": {},
   "source": [
    "#### REMOVING AN ELEMENT"
   ]
  },
  {
   "cell_type": "code",
   "execution_count": 51,
   "id": "d43e4d0d-a328-49b6-ab99-cd931228bc47",
   "metadata": {},
   "outputs": [],
   "source": [
    "countries3 = [\"US\", \"Spain\", \"France\", \"UK\"]"
   ]
  },
  {
   "cell_type": "code",
   "execution_count": 52,
   "id": "de24a94a-983e-4f4b-bc18-f105b23c974c",
   "metadata": {},
   "outputs": [],
   "source": [
    "countries3.remove(\"US\")"
   ]
  },
  {
   "cell_type": "code",
   "execution_count": 53,
   "id": "e8271868-7f78-4e0b-b5b6-a134d407451b",
   "metadata": {},
   "outputs": [
    {
     "data": {
      "text/plain": [
       "['Spain', 'France', 'UK']"
      ]
     },
     "execution_count": 53,
     "metadata": {},
     "output_type": "execute_result"
    }
   ],
   "source": [
    "countries3"
   ]
  },
  {
   "cell_type": "code",
   "execution_count": 54,
   "id": "b9f4ef5e-d297-4332-942e-733d8385d1a8",
   "metadata": {},
   "outputs": [
    {
     "data": {
      "text/plain": [
       "'UK'"
      ]
     },
     "execution_count": 54,
     "metadata": {},
     "output_type": "execute_result"
    }
   ],
   "source": [
    "countries3.pop(-1)"
   ]
  },
  {
   "cell_type": "code",
   "execution_count": 55,
   "id": "368b425a-8e2f-4663-856a-fd4c13967712",
   "metadata": {},
   "outputs": [
    {
     "data": {
      "text/plain": [
       "['Spain', 'France']"
      ]
     },
     "execution_count": 55,
     "metadata": {},
     "output_type": "execute_result"
    }
   ],
   "source": [
    "countries3"
   ]
  },
  {
   "cell_type": "code",
   "execution_count": 56,
   "id": "133e129e-0852-4199-b521-6e3407b37a73",
   "metadata": {},
   "outputs": [],
   "source": [
    "del countries3[0]"
   ]
  },
  {
   "cell_type": "code",
   "execution_count": 57,
   "id": "eb6c2ed5-eac9-44aa-80a3-73bbec0357ad",
   "metadata": {},
   "outputs": [
    {
     "data": {
      "text/plain": [
       "['France']"
      ]
     },
     "execution_count": 57,
     "metadata": {},
     "output_type": "execute_result"
    }
   ],
   "source": [
    "countries3"
   ]
  },
  {
   "cell_type": "markdown",
   "id": "2e3a5607-95cb-43eb-a73b-e2fc0a62000d",
   "metadata": {},
   "source": [
    "#### SORTING A LIST"
   ]
  },
  {
   "cell_type": "code",
   "execution_count": 61,
   "id": "76fc7b0b-24c3-4b85-8b95-44314075cbc3",
   "metadata": {},
   "outputs": [],
   "source": [
    "numbers = [4, 3, 10, 5, 32, 1]"
   ]
  },
  {
   "cell_type": "code",
   "execution_count": 62,
   "id": "546db0e2-6d08-4045-82fe-3a38b760c832",
   "metadata": {},
   "outputs": [],
   "source": [
    "numbers.sort()"
   ]
  },
  {
   "cell_type": "code",
   "execution_count": 63,
   "id": "8da55741-79c3-4b86-abf6-3d4e0d5d0600",
   "metadata": {},
   "outputs": [
    {
     "data": {
      "text/plain": [
       "[1, 3, 4, 5, 10, 32]"
      ]
     },
     "execution_count": 63,
     "metadata": {},
     "output_type": "execute_result"
    }
   ],
   "source": [
    "numbers"
   ]
  },
  {
   "cell_type": "code",
   "execution_count": 70,
   "id": "17ff9090-60bc-4dea-a8e5-35dbd9756c0d",
   "metadata": {},
   "outputs": [],
   "source": [
    "numbers.sort(reverse=True)"
   ]
  },
  {
   "cell_type": "code",
   "execution_count": 71,
   "id": "c0c24d1c-020a-44b0-8b90-10ead27f247a",
   "metadata": {},
   "outputs": [
    {
     "data": {
      "text/plain": [
       "[32, 10, 5, 4, 3, 1]"
      ]
     },
     "execution_count": 71,
     "metadata": {},
     "output_type": "execute_result"
    }
   ],
   "source": [
    "numbers"
   ]
  },
  {
   "cell_type": "markdown",
   "id": "427f3290-956c-44d3-9ac8-9bea6d7aa8b0",
   "metadata": {},
   "source": [
    "#### UPDATE AN ELEMENT"
   ]
  },
  {
   "cell_type": "code",
   "execution_count": 72,
   "id": "08c96bc7-e599-4efd-a03e-7ef660689b29",
   "metadata": {},
   "outputs": [],
   "source": [
    "numbers[0] = 100"
   ]
  },
  {
   "cell_type": "code",
   "execution_count": 73,
   "id": "1ab0d0dc-0518-40cc-b841-2b9bc8b60075",
   "metadata": {},
   "outputs": [
    {
     "data": {
      "text/plain": [
       "[100, 10, 5, 4, 3, 1]"
      ]
     },
     "execution_count": 73,
     "metadata": {},
     "output_type": "execute_result"
    }
   ],
   "source": [
    "numbers"
   ]
  },
  {
   "cell_type": "markdown",
   "id": "2020f25a-c09b-497b-a9b4-8b1ce28dc726",
   "metadata": {},
   "source": [
    "#### COPYING A LIST"
   ]
  },
  {
   "cell_type": "code",
   "execution_count": 77,
   "id": "3a8b797c-3bc5-43a0-93cf-8734f3a1c569",
   "metadata": {},
   "outputs": [],
   "source": [
    "countries = [\"United States\", \"India\", \"China\", \"Brazil\"]\n",
    "new_list = countries[:]"
   ]
  },
  {
   "cell_type": "code",
   "execution_count": 78,
   "id": "ad4d2c44-7139-4684-8ee8-c70fb3fb468f",
   "metadata": {},
   "outputs": [
    {
     "data": {
      "text/plain": [
       "['United States', 'India', 'China', 'Brazil']"
      ]
     },
     "execution_count": 78,
     "metadata": {},
     "output_type": "execute_result"
    }
   ],
   "source": [
    "new_list"
   ]
  },
  {
   "cell_type": "code",
   "execution_count": 79,
   "id": "6dfe9966-b2f4-498d-b3a0-189a64c62a44",
   "metadata": {},
   "outputs": [],
   "source": [
    "new_list2 = countries.copy()"
   ]
  },
  {
   "cell_type": "code",
   "execution_count": 80,
   "id": "a8d59a7c-95a0-4900-b475-8ab000ff17a7",
   "metadata": {},
   "outputs": [
    {
     "data": {
      "text/plain": [
       "['United States', 'India', 'China', 'Brazil']"
      ]
     },
     "execution_count": 80,
     "metadata": {},
     "output_type": "execute_result"
    }
   ],
   "source": [
    "new_list2"
   ]
  },
  {
   "cell_type": "code",
   "execution_count": null,
   "id": "5993e975-b42c-4d62-b55b-7c500d612284",
   "metadata": {},
   "outputs": [],
   "source": []
  }
 ],
 "metadata": {
  "kernelspec": {
   "display_name": "python-starter",
   "language": "python",
   "name": "conda-env-python-starter"
  },
  "language_info": {
   "codemirror_mode": {
    "name": "ipython",
    "version": 3
   },
   "file_extension": ".py",
   "mimetype": "text/x-python",
   "name": "python",
   "nbconvert_exporter": "python",
   "pygments_lexer": "ipython3",
   "version": "3.11.11"
  }
 },
 "nbformat": 4,
 "nbformat_minor": 5
}
