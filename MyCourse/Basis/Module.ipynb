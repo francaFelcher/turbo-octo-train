{
 "cells": [
  {
   "cell_type": "markdown",
   "id": "99a1d183-220f-4eaf-b5df-ae9bc24c64ee",
   "metadata": {},
   "source": [
    "# Module"
   ]
  },
  {
   "cell_type": "markdown",
   "id": "b7c5e03b-e675-4f5c-951a-10bf7295b35b",
   "metadata": {},
   "source": [
    "import"
   ]
  },
  {
   "cell_type": "markdown",
   "id": "81cc61ac-05df-4d89-aad0-cfa9404ef99a",
   "metadata": {},
   "source": [
    "#### OS MODULE"
   ]
  },
  {
   "cell_type": "code",
   "execution_count": 25,
   "id": "ad5c3336-2402-4d27-8cd2-6e20459e5b57",
   "metadata": {},
   "outputs": [],
   "source": [
    "import os"
   ]
  },
  {
   "cell_type": "code",
   "execution_count": 26,
   "id": "e259810e-2b62-4341-9984-355d68caa207",
   "metadata": {},
   "outputs": [
    {
     "data": {
      "text/plain": [
       "'C:\\\\Users\\\\franc\\\\AnacondaScripts\\\\MyCourse'"
      ]
     },
     "execution_count": 26,
     "metadata": {},
     "output_type": "execute_result"
    }
   ],
   "source": [
    "os.getcwd()"
   ]
  },
  {
   "cell_type": "code",
   "execution_count": 27,
   "id": "47674536-b6c8-41ba-b28e-d5baf895a8e7",
   "metadata": {},
   "outputs": [
    {
     "data": {
      "text/plain": [
       "['.ipynb_checkpoints',\n",
       " 'ControlFlowStatements.ipynb',\n",
       " 'Dictionary.ipynb',\n",
       " 'Example.ipynb',\n",
       " 'Function.ipynb',\n",
       " 'List.ipynb',\n",
       " 'Module.ipynb',\n",
       " 'NewFolder']"
      ]
     },
     "execution_count": 27,
     "metadata": {},
     "output_type": "execute_result"
    }
   ],
   "source": [
    "os.listdir()"
   ]
  },
  {
   "cell_type": "code",
   "execution_count": 28,
   "id": "d09737dd-a33b-42da-8694-d11267a087bf",
   "metadata": {},
   "outputs": [
    {
     "ename": "FileExistsError",
     "evalue": "[WinError 183] Impossibile creare un file, se il file esiste già: 'NewFolder'",
     "output_type": "error",
     "traceback": [
      "\u001b[31m---------------------------------------------------------------------------\u001b[39m",
      "\u001b[31mFileExistsError\u001b[39m                           Traceback (most recent call last)",
      "\u001b[36mCell\u001b[39m\u001b[36m \u001b[39m\u001b[32mIn[28]\u001b[39m\u001b[32m, line 1\u001b[39m\n\u001b[32m----> \u001b[39m\u001b[32m1\u001b[39m os.makedirs(\u001b[33m\"\u001b[39m\u001b[33mNewFolder\u001b[39m\u001b[33m\"\u001b[39m)\n",
      "\u001b[36mFile \u001b[39m\u001b[32m~\\anaconda3\\envs\\python-starter\\Lib\\os.py:225\u001b[39m, in \u001b[36mmakedirs\u001b[39m\u001b[34m(name, mode, exist_ok)\u001b[39m\n\u001b[32m    223\u001b[39m         \u001b[38;5;28;01mreturn\u001b[39;00m\n\u001b[32m    224\u001b[39m \u001b[38;5;28;01mtry\u001b[39;00m:\n\u001b[32m--> \u001b[39m\u001b[32m225\u001b[39m     mkdir(name, mode)\n\u001b[32m    226\u001b[39m \u001b[38;5;28;01mexcept\u001b[39;00m \u001b[38;5;167;01mOSError\u001b[39;00m:\n\u001b[32m    227\u001b[39m     \u001b[38;5;66;03m# Cannot rely on checking for EEXIST, since the operating system\u001b[39;00m\n\u001b[32m    228\u001b[39m     \u001b[38;5;66;03m# could give priority to other errors like EACCES or EROFS\u001b[39;00m\n\u001b[32m    229\u001b[39m     \u001b[38;5;28;01mif\u001b[39;00m \u001b[38;5;129;01mnot\u001b[39;00m exist_ok \u001b[38;5;129;01mor\u001b[39;00m \u001b[38;5;129;01mnot\u001b[39;00m path.isdir(name):\n",
      "\u001b[31mFileExistsError\u001b[39m: [WinError 183] Impossibile creare un file, se il file esiste già: 'NewFolder'"
     ]
    }
   ],
   "source": [
    "os.makedirs(\"NewFolder\")"
   ]
  },
  {
   "cell_type": "code",
   "execution_count": 29,
   "id": "f30c47d3-f65f-46dd-9abc-193ea93cba54",
   "metadata": {},
   "outputs": [
    {
     "data": {
      "text/plain": [
       "['.ipynb_checkpoints',\n",
       " 'ControlFlowStatements.ipynb',\n",
       " 'Dictionary.ipynb',\n",
       " 'Example.ipynb',\n",
       " 'Function.ipynb',\n",
       " 'List.ipynb',\n",
       " 'Module.ipynb',\n",
       " 'NewFolder']"
      ]
     },
     "execution_count": 29,
     "metadata": {},
     "output_type": "execute_result"
    }
   ],
   "source": [
    "os.listdir()"
   ]
  },
  {
   "cell_type": "code",
   "execution_count": 30,
   "id": "7f21ad27-fe0e-4dce-a1f1-bf604aac89c6",
   "metadata": {},
   "outputs": [],
   "source": [
    "os.rmdir(\"NewFolder\")"
   ]
  },
  {
   "cell_type": "code",
   "execution_count": 31,
   "id": "de5a6d3e-8c3d-4e98-8f3c-927a0dc9ff71",
   "metadata": {},
   "outputs": [
    {
     "data": {
      "text/plain": [
       "<function nt.listdir(path=None)>"
      ]
     },
     "execution_count": 31,
     "metadata": {},
     "output_type": "execute_result"
    }
   ],
   "source": [
    "os.listdir"
   ]
  },
  {
   "cell_type": "code",
   "execution_count": null,
   "id": "eb973f6e-f967-4e9e-bb73-f7722b904ab0",
   "metadata": {},
   "outputs": [],
   "source": []
  },
  {
   "cell_type": "code",
   "execution_count": null,
   "id": "fad4e5b8-ac48-4bd9-9ebe-fe2aaac804cf",
   "metadata": {},
   "outputs": [],
   "source": []
  },
  {
   "cell_type": "code",
   "execution_count": null,
   "id": "b75dcffe-cbc3-458d-8dbb-5c46408d0861",
   "metadata": {},
   "outputs": [],
   "source": []
  },
  {
   "cell_type": "code",
   "execution_count": null,
   "id": "04d2edd8-897e-4462-8e7e-7d41487e12e6",
   "metadata": {},
   "outputs": [],
   "source": []
  }
 ],
 "metadata": {
  "kernelspec": {
   "display_name": "python-starter",
   "language": "python",
   "name": "conda-env-python-starter"
  },
  "language_info": {
   "codemirror_mode": {
    "name": "ipython",
    "version": 3
   },
   "file_extension": ".py",
   "mimetype": "text/x-python",
   "name": "python",
   "nbconvert_exporter": "python",
   "pygments_lexer": "ipython3",
   "version": "3.11.11"
  }
 },
 "nbformat": 4,
 "nbformat_minor": 5
}
