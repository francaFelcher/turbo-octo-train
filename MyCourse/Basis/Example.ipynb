{
 "cells": [
  {
   "cell_type": "code",
   "execution_count": 15,
   "id": "9cb151ff-d038-4fb3-97f1-9758d277305a",
   "metadata": {},
   "outputs": [
    {
     "name": "stdout",
     "output_type": "stream",
     "text": [
      "Hello world!\n"
     ]
    }
   ],
   "source": [
    "print(\"Hello world!\")"
   ]
  },
  {
   "cell_type": "code",
   "execution_count": 17,
   "id": "9ef30486-fee7-4596-ba5a-2f90ad0089e6",
   "metadata": {},
   "outputs": [
    {
     "data": {
      "text/plain": [
       "'Hello world!'"
      ]
     },
     "execution_count": 17,
     "metadata": {},
     "output_type": "execute_result"
    }
   ],
   "source": [
    "# saluto\n",
    "\"Hello world!\""
   ]
  },
  {
   "cell_type": "code",
   "execution_count": 9,
   "id": "c4b33092-4430-4c20-b3d9-edf0da2baac0",
   "metadata": {},
   "outputs": [],
   "source": [
    "message1 = \"I'm cool\""
   ]
  },
  {
   "cell_type": "code",
   "execution_count": 10,
   "id": "a4103e12-ed25-4d91-874f-964e6d322e16",
   "metadata": {},
   "outputs": [
    {
     "data": {
      "text/plain": [
       "\"I'm cool\""
      ]
     },
     "execution_count": 10,
     "metadata": {},
     "output_type": "execute_result"
    }
   ],
   "source": [
    "message1"
   ]
  },
  {
   "cell_type": "code",
   "execution_count": 11,
   "id": "02f883f2-63bb-4c66-a869-a472be2af63c",
   "metadata": {},
   "outputs": [],
   "source": [
    "message2 = \"and it's not fun\""
   ]
  },
  {
   "cell_type": "code",
   "execution_count": 12,
   "id": "abf9377f-7e60-4aae-b40e-51fee9f6a60e",
   "metadata": {},
   "outputs": [
    {
     "data": {
      "text/plain": [
       "\"and it's not fun\""
      ]
     },
     "execution_count": 12,
     "metadata": {},
     "output_type": "execute_result"
    }
   ],
   "source": [
    "message2"
   ]
  },
  {
   "cell_type": "code",
   "execution_count": 13,
   "id": "2e668164-f457-48c8-af89-b331edef71ee",
   "metadata": {},
   "outputs": [
    {
     "data": {
      "text/plain": [
       "\"I'm cool and it's not fun\""
      ]
     },
     "execution_count": 13,
     "metadata": {},
     "output_type": "execute_result"
    }
   ],
   "source": [
    "message1 + \" \" + message2"
   ]
  },
  {
   "cell_type": "code",
   "execution_count": 14,
   "id": "c0fb3e7f-6933-41e7-8922-889769ea3657",
   "metadata": {},
   "outputs": [
    {
     "data": {
      "text/plain": [
       "'Hello World!'"
      ]
     },
     "execution_count": 14,
     "metadata": {},
     "output_type": "execute_result"
    }
   ],
   "source": [
    "f'Hello World!'"
   ]
  },
  {
   "cell_type": "code",
   "execution_count": 15,
   "id": "3ce95729-2475-479e-baa8-ad20dc9e6887",
   "metadata": {},
   "outputs": [
    {
     "data": {
      "text/plain": [
       "\"I'm cool\""
      ]
     },
     "execution_count": 15,
     "metadata": {},
     "output_type": "execute_result"
    }
   ],
   "source": [
    "f'{message1}'"
   ]
  },
  {
   "cell_type": "code",
   "execution_count": 16,
   "id": "86954098-6bda-4032-863a-3b650ceb7427",
   "metadata": {},
   "outputs": [
    {
     "data": {
      "text/plain": [
       "\"I'm cool and it's not fun\""
      ]
     },
     "execution_count": 16,
     "metadata": {},
     "output_type": "execute_result"
    }
   ],
   "source": [
    "f'{message1} {message2}'"
   ]
  },
  {
   "cell_type": "code",
   "execution_count": null,
   "id": "017dda95-d0ef-4a91-9119-e46393549081",
   "metadata": {},
   "outputs": [],
   "source": []
  }
 ],
 "metadata": {
  "kernelspec": {
   "display_name": "Python [conda env:base] *",
   "language": "python",
   "name": "conda-base-py"
  },
  "language_info": {
   "codemirror_mode": {
    "name": "ipython",
    "version": 3
   },
   "file_extension": ".py",
   "mimetype": "text/x-python",
   "name": "python",
   "nbconvert_exporter": "python",
   "pygments_lexer": "ipython3",
   "version": "3.12.7"
  }
 },
 "nbformat": 4,
 "nbformat_minor": 5
}
