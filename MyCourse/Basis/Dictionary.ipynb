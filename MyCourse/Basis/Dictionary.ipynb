{
 "cells": [
  {
   "cell_type": "markdown",
   "id": "612482e4-41ed-4bbc-8d2d-0e60c820d31b",
   "metadata": {},
   "source": [
    "# Dictionary"
   ]
  },
  {
   "cell_type": "code",
   "execution_count": 15,
   "id": "407f62df-4867-4ef7-abe7-765a6bf00bb5",
   "metadata": {},
   "outputs": [],
   "source": [
    "# myDict = {\"key1\":\"value1\", \"key2\":\"value2\"}"
   ]
  },
  {
   "cell_type": "code",
   "execution_count": 3,
   "id": "fab2f9be-4ab5-4f90-ba3e-7b92fd775c8b",
   "metadata": {},
   "outputs": [],
   "source": [
    "myData = {\"name\":\"Frank\", \"age\":26}"
   ]
  },
  {
   "cell_type": "code",
   "execution_count": 4,
   "id": "a15c024a-a80d-476c-a63b-dfaecc041c40",
   "metadata": {},
   "outputs": [
    {
     "data": {
      "text/plain": [
       "{'name': 'Frank', 'age': 26}"
      ]
     },
     "execution_count": 4,
     "metadata": {},
     "output_type": "execute_result"
    }
   ],
   "source": [
    "myData"
   ]
  },
  {
   "cell_type": "code",
   "execution_count": 5,
   "id": "85a902ac-3c40-42d3-9272-4fa4641fa9e9",
   "metadata": {},
   "outputs": [
    {
     "data": {
      "text/plain": [
       "dict_keys(['name', 'age'])"
      ]
     },
     "execution_count": 5,
     "metadata": {},
     "output_type": "execute_result"
    }
   ],
   "source": [
    "myData.keys()"
   ]
  },
  {
   "cell_type": "code",
   "execution_count": 6,
   "id": "e16e4cd9-2620-434f-8941-87c8efcbbfbc",
   "metadata": {},
   "outputs": [
    {
     "data": {
      "text/plain": [
       "dict_values(['Frank', 26])"
      ]
     },
     "execution_count": 6,
     "metadata": {},
     "output_type": "execute_result"
    }
   ],
   "source": [
    "myData.values()"
   ]
  },
  {
   "cell_type": "code",
   "execution_count": 7,
   "id": "5efd519d-5e3a-4cb4-a22a-6c359db4337d",
   "metadata": {},
   "outputs": [
    {
     "data": {
      "text/plain": [
       "dict_items([('name', 'Frank'), ('age', 26)])"
      ]
     },
     "execution_count": 7,
     "metadata": {},
     "output_type": "execute_result"
    }
   ],
   "source": [
    "myData.items()"
   ]
  },
  {
   "cell_type": "code",
   "execution_count": 10,
   "id": "34a62e44-7ad0-41f9-a150-19fa9ec7935e",
   "metadata": {},
   "outputs": [],
   "source": [
    "myData[\"height\"] = 1.75"
   ]
  },
  {
   "cell_type": "code",
   "execution_count": 11,
   "id": "46f4057a-1523-4364-b6f7-b6605e77222c",
   "metadata": {},
   "outputs": [
    {
     "data": {
      "text/plain": [
       "{'name': 'Frank', 'age': 26, 'height': 1.75}"
      ]
     },
     "execution_count": 11,
     "metadata": {},
     "output_type": "execute_result"
    }
   ],
   "source": [
    "myData"
   ]
  },
  {
   "cell_type": "code",
   "execution_count": 29,
   "id": "f6c8ea7a-4054-4f3b-89b3-b20182d90c2c",
   "metadata": {},
   "outputs": [],
   "source": [
    "myData.update({\"height\":1.95})"
   ]
  },
  {
   "cell_type": "code",
   "execution_count": 30,
   "id": "494256e3-a936-432b-bf0a-14576798c2ea",
   "metadata": {},
   "outputs": [
    {
     "data": {
      "text/plain": [
       "{'name': 'Frank', 'age': 26, 'height': 1.95}"
      ]
     },
     "execution_count": 30,
     "metadata": {},
     "output_type": "execute_result"
    }
   ],
   "source": [
    "myData"
   ]
  },
  {
   "cell_type": "markdown",
   "id": "86b1a761-df80-4c55-8b03-08fc25009ede",
   "metadata": {},
   "source": [
    "#### COPY A DICTIONARY"
   ]
  },
  {
   "cell_type": "code",
   "execution_count": 25,
   "id": "0cbe1344-514a-4e04-ab44-45d3664dc0ea",
   "metadata": {},
   "outputs": [],
   "source": [
    "# se uso il metodo copy() per creare una copia e poi modifico i dati nell'originale, la copia non viene aggiornata automaticamente\n",
    "# è indipendente\n",
    "newDict = myData.copy()"
   ]
  },
  {
   "cell_type": "code",
   "execution_count": 31,
   "id": "cfe3f361-6907-4543-9766-de1b8270714c",
   "metadata": {},
   "outputs": [
    {
     "data": {
      "text/plain": [
       "{'name': 'Frank', 'age': 26, 'height': 1.9}"
      ]
     },
     "execution_count": 31,
     "metadata": {},
     "output_type": "execute_result"
    }
   ],
   "source": [
    "newDict "
   ]
  },
  {
   "cell_type": "code",
   "execution_count": 27,
   "id": "b6e2d4dc-5c59-4863-8fc8-f2e93ed44929",
   "metadata": {},
   "outputs": [],
   "source": [
    "# se faccio una copia direttamente dall'originale, si aggiorna automaticamente\n",
    "newDict2 = myData"
   ]
  },
  {
   "cell_type": "code",
   "execution_count": 32,
   "id": "68b63a92-38ea-43bd-bd1d-3fac97c6e279",
   "metadata": {},
   "outputs": [
    {
     "data": {
      "text/plain": [
       "{'name': 'Frank', 'age': 26, 'height': 1.95}"
      ]
     },
     "execution_count": 32,
     "metadata": {},
     "output_type": "execute_result"
    }
   ],
   "source": [
    "newDict2"
   ]
  },
  {
   "cell_type": "markdown",
   "id": "44b46419-1688-4217-b07a-f7471200c806",
   "metadata": {},
   "source": [
    "#### REMOVE ELEMENT"
   ]
  },
  {
   "cell_type": "code",
   "execution_count": 33,
   "id": "c57caf2d-b9af-4dec-892c-79c8f78ad1d5",
   "metadata": {},
   "outputs": [
    {
     "data": {
      "text/plain": [
       "'Frank'"
      ]
     },
     "execution_count": 33,
     "metadata": {},
     "output_type": "execute_result"
    }
   ],
   "source": [
    "myData.pop(\"name\")"
   ]
  },
  {
   "cell_type": "code",
   "execution_count": 34,
   "id": "3805ae7d-49b9-4404-bbb9-1a4a4dbfddb0",
   "metadata": {},
   "outputs": [
    {
     "data": {
      "text/plain": [
       "{'age': 26, 'height': 1.95}"
      ]
     },
     "execution_count": 34,
     "metadata": {},
     "output_type": "execute_result"
    }
   ],
   "source": [
    "myData"
   ]
  },
  {
   "cell_type": "code",
   "execution_count": 35,
   "id": "babfb391-aecd-439f-aecc-50983139c8f2",
   "metadata": {},
   "outputs": [],
   "source": [
    "del myData[\"age\"]"
   ]
  },
  {
   "cell_type": "code",
   "execution_count": 36,
   "id": "f7c3e4dc-eca5-46c3-9df0-c3a5f471f65a",
   "metadata": {},
   "outputs": [
    {
     "data": {
      "text/plain": [
       "{'height': 1.95}"
      ]
     },
     "execution_count": 36,
     "metadata": {},
     "output_type": "execute_result"
    }
   ],
   "source": [
    "myData"
   ]
  },
  {
   "cell_type": "code",
   "execution_count": 37,
   "id": "95be0d6a-aa9b-4493-bd13-1c3b453851c7",
   "metadata": {},
   "outputs": [],
   "source": [
    "myData.clear()"
   ]
  },
  {
   "cell_type": "code",
   "execution_count": 38,
   "id": "69121d99-3641-489b-9a1d-622cd1297718",
   "metadata": {},
   "outputs": [
    {
     "data": {
      "text/plain": [
       "{}"
      ]
     },
     "execution_count": 38,
     "metadata": {},
     "output_type": "execute_result"
    }
   ],
   "source": [
    "myData"
   ]
  },
  {
   "cell_type": "code",
   "execution_count": null,
   "id": "f47c34df-7cf8-45c9-bc23-c92b247aca2b",
   "metadata": {},
   "outputs": [],
   "source": []
  }
 ],
 "metadata": {
  "kernelspec": {
   "display_name": "python-starter",
   "language": "python",
   "name": "conda-env-python-starter"
  },
  "language_info": {
   "codemirror_mode": {
    "name": "ipython",
    "version": 3
   },
   "file_extension": ".py",
   "mimetype": "text/x-python",
   "name": "python",
   "nbconvert_exporter": "python",
   "pygments_lexer": "ipython3",
   "version": "3.11.11"
  }
 },
 "nbformat": 4,
 "nbformat_minor": 5
}
