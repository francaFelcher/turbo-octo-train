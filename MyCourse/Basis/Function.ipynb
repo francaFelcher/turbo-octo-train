{
 "cells": [
  {
   "cell_type": "markdown",
   "id": "caa466e2-9c43-4c4e-9017-e276a7fe7040",
   "metadata": {},
   "source": [
    "# Function"
   ]
  },
  {
   "cell_type": "markdown",
   "id": "49e18331-5374-4efb-abfd-7cf77d9cc5f5",
   "metadata": {},
   "source": [
    "def function(<params>):\n",
    "    <code>\n",
    "    return <data>"
   ]
  },
  {
   "cell_type": "code",
   "execution_count": 1,
   "id": "2d183269-e70a-4eae-8813-4c6a7de2b566",
   "metadata": {},
   "outputs": [],
   "source": [
    "def sumValues(a, b):\n",
    "    x = a + b\n",
    "    return x"
   ]
  },
  {
   "cell_type": "code",
   "execution_count": 4,
   "id": "8a49b50e-e3aa-4eb3-bb24-21b59aadef14",
   "metadata": {},
   "outputs": [
    {
     "data": {
      "text/plain": [
       "4"
      ]
     },
     "execution_count": 4,
     "metadata": {},
     "output_type": "execute_result"
    }
   ],
   "source": [
    "sumValues(1, 3)"
   ]
  },
  {
   "cell_type": "markdown",
   "id": "b20fffdf-e092-4bbd-bc38-761bc069eae4",
   "metadata": {},
   "source": [
    "#### BUILT-IN FUNCTIONS"
   ]
  },
  {
   "cell_type": "code",
   "execution_count": 6,
   "id": "1404c4da-4a4c-4572-a416-21b6f4faad72",
   "metadata": {},
   "outputs": [],
   "source": [
    "countries = [\"UK\", \"India\", \"Pakistan\", \"Italy\", \"Norwey\"]"
   ]
  },
  {
   "cell_type": "code",
   "execution_count": 7,
   "id": "40b71684-6691-4e04-be99-aee0f56f495d",
   "metadata": {},
   "outputs": [
    {
     "data": {
      "text/plain": [
       "5"
      ]
     },
     "execution_count": 7,
     "metadata": {},
     "output_type": "execute_result"
    }
   ],
   "source": [
    "len(countries)"
   ]
  },
  {
   "cell_type": "code",
   "execution_count": 9,
   "id": "03164dce-ab0b-4798-b3fc-9af054812968",
   "metadata": {},
   "outputs": [],
   "source": [
    "numbers = [1, 10, 23, 12, 3]"
   ]
  },
  {
   "cell_type": "code",
   "execution_count": 10,
   "id": "2f172c1b-70c2-4ffa-b529-3e8cdb9ba682",
   "metadata": {},
   "outputs": [
    {
     "data": {
      "text/plain": [
       "23"
      ]
     },
     "execution_count": 10,
     "metadata": {},
     "output_type": "execute_result"
    }
   ],
   "source": [
    "max(numbers)"
   ]
  },
  {
   "cell_type": "code",
   "execution_count": 11,
   "id": "bb229039-d117-40cc-9e9a-a42a16fbad45",
   "metadata": {},
   "outputs": [
    {
     "data": {
      "text/plain": [
       "1"
      ]
     },
     "execution_count": 11,
     "metadata": {},
     "output_type": "execute_result"
    }
   ],
   "source": [
    "min(numbers)"
   ]
  },
  {
   "cell_type": "code",
   "execution_count": 12,
   "id": "9e61c69d-b07b-420d-9073-2ee8ebc1c532",
   "metadata": {},
   "outputs": [
    {
     "data": {
      "text/plain": [
       "list"
      ]
     },
     "execution_count": 12,
     "metadata": {},
     "output_type": "execute_result"
    }
   ],
   "source": [
    "type(countries)"
   ]
  },
  {
   "cell_type": "code",
   "execution_count": 13,
   "id": "9b5ca63b-1ab4-44c9-bb7c-982368c4fe23",
   "metadata": {},
   "outputs": [
    {
     "data": {
      "text/plain": [
       "list"
      ]
     },
     "execution_count": 13,
     "metadata": {},
     "output_type": "execute_result"
    }
   ],
   "source": [
    "type(numbers)"
   ]
  },
  {
   "cell_type": "code",
   "execution_count": 14,
   "id": "8dee85b8-cbf9-457c-afb0-26c9b5c49462",
   "metadata": {},
   "outputs": [
    {
     "data": {
      "text/plain": [
       "range(1, 10, 2)"
      ]
     },
     "execution_count": 14,
     "metadata": {},
     "output_type": "execute_result"
    }
   ],
   "source": [
    "range(1, 10, 2)"
   ]
  },
  {
   "cell_type": "code",
   "execution_count": 15,
   "id": "73a41ca5-2c1d-4d5d-bbad-0452d768ba95",
   "metadata": {},
   "outputs": [
    {
     "name": "stdout",
     "output_type": "stream",
     "text": [
      "1\n",
      "3\n",
      "5\n",
      "7\n",
      "9\n"
     ]
    }
   ],
   "source": [
    "for i in range(1, 10, 2):\n",
    "    print(i)"
   ]
  },
  {
   "cell_type": "code",
   "execution_count": null,
   "id": "0d83fbc6-5ecb-4f3e-b764-86a4a9e05ae7",
   "metadata": {},
   "outputs": [],
   "source": []
  }
 ],
 "metadata": {
  "kernelspec": {
   "display_name": "python-starter",
   "language": "python",
   "name": "conda-env-python-starter"
  },
  "language_info": {
   "codemirror_mode": {
    "name": "ipython",
    "version": 3
   },
   "file_extension": ".py",
   "mimetype": "text/x-python",
   "name": "python",
   "nbconvert_exporter": "python",
   "pygments_lexer": "ipython3",
   "version": "3.11.11"
  }
 },
 "nbformat": 4,
 "nbformat_minor": 5
}
