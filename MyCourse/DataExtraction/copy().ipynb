{
 "cells": [
  {
   "cell_type": "code",
   "execution_count": 24,
   "id": "f94ba12c-0c93-4993-872b-78628c0bb796",
   "metadata": {},
   "outputs": [],
   "source": [
    "import pandas as pd"
   ]
  },
  {
   "cell_type": "code",
   "execution_count": 25,
   "id": "c59aa9b0-9c1e-48bf-806e-8929149ea950",
   "metadata": {},
   "outputs": [],
   "source": [
    "df = pd.read_csv(\"players_20.csv\")\n",
    "df.set_index(\"short_name\", inplace = True)\n",
    "df = df[[\"long_name\",\"age\",\"dob\",\"height_cm\",\"weight_kg\",\"nationality\",\"club\"]]"
   ]
  },
  {
   "cell_type": "code",
   "execution_count": 26,
   "id": "605ed317-e4d5-4b79-8a76-129b10c94bb4",
   "metadata": {},
   "outputs": [
    {
     "data": {
      "text/html": [
       "<div>\n",
       "<style scoped>\n",
       "    .dataframe tbody tr th:only-of-type {\n",
       "        vertical-align: middle;\n",
       "    }\n",
       "\n",
       "    .dataframe tbody tr th {\n",
       "        vertical-align: top;\n",
       "    }\n",
       "\n",
       "    .dataframe thead th {\n",
       "        text-align: right;\n",
       "    }\n",
       "</style>\n",
       "<table border=\"1\" class=\"dataframe\">\n",
       "  <thead>\n",
       "    <tr style=\"text-align: right;\">\n",
       "      <th></th>\n",
       "      <th>long_name</th>\n",
       "      <th>age</th>\n",
       "      <th>dob</th>\n",
       "      <th>height_cm</th>\n",
       "      <th>weight_kg</th>\n",
       "      <th>nationality</th>\n",
       "      <th>club</th>\n",
       "    </tr>\n",
       "    <tr>\n",
       "      <th>short_name</th>\n",
       "      <th></th>\n",
       "      <th></th>\n",
       "      <th></th>\n",
       "      <th></th>\n",
       "      <th></th>\n",
       "      <th></th>\n",
       "      <th></th>\n",
       "    </tr>\n",
       "  </thead>\n",
       "  <tbody>\n",
       "    <tr>\n",
       "      <th>L. Messi</th>\n",
       "      <td>Lionel Andrés Messi Cuccittini</td>\n",
       "      <td>32</td>\n",
       "      <td>1987-06-24</td>\n",
       "      <td>170</td>\n",
       "      <td>72</td>\n",
       "      <td>Argentina</td>\n",
       "      <td>FC Barcelona</td>\n",
       "    </tr>\n",
       "    <tr>\n",
       "      <th>Cristiano Ronaldo</th>\n",
       "      <td>Cristiano Ronaldo dos Santos Aveiro</td>\n",
       "      <td>34</td>\n",
       "      <td>1985-02-05</td>\n",
       "      <td>187</td>\n",
       "      <td>83</td>\n",
       "      <td>Portugal</td>\n",
       "      <td>Juventus</td>\n",
       "    </tr>\n",
       "    <tr>\n",
       "      <th>Neymar Jr</th>\n",
       "      <td>Neymar da Silva Santos Junior</td>\n",
       "      <td>27</td>\n",
       "      <td>1992-02-05</td>\n",
       "      <td>175</td>\n",
       "      <td>68</td>\n",
       "      <td>Brazil</td>\n",
       "      <td>Paris Saint-Germain</td>\n",
       "    </tr>\n",
       "  </tbody>\n",
       "</table>\n",
       "</div>"
      ],
      "text/plain": [
       "                                             long_name  age         dob  \\\n",
       "short_name                                                                \n",
       "L. Messi                Lionel Andrés Messi Cuccittini   32  1987-06-24   \n",
       "Cristiano Ronaldo  Cristiano Ronaldo dos Santos Aveiro   34  1985-02-05   \n",
       "Neymar Jr                Neymar da Silva Santos Junior   27  1992-02-05   \n",
       "\n",
       "                   height_cm  weight_kg nationality                 club  \n",
       "short_name                                                                \n",
       "L. Messi                 170         72   Argentina         FC Barcelona  \n",
       "Cristiano Ronaldo        187         83    Portugal             Juventus  \n",
       "Neymar Jr                175         68      Brazil  Paris Saint-Germain  "
      ]
     },
     "execution_count": 26,
     "metadata": {},
     "output_type": "execute_result"
    }
   ],
   "source": [
    "df.head(3)"
   ]
  },
  {
   "cell_type": "markdown",
   "id": "7af9e2d4-3983-4e33-86f2-57fc150af5b1",
   "metadata": {},
   "source": [
    "# copy()"
   ]
  },
  {
   "cell_type": "markdown",
   "id": "16afb89b-2b02-470e-800d-04e4426bc2fa",
   "metadata": {},
   "source": [
    "#### deep = True"
   ]
  },
  {
   "cell_type": "code",
   "execution_count": 27,
   "id": "3cef98be-b0ce-4593-a5d5-8ec7462d1f7c",
   "metadata": {},
   "outputs": [],
   "source": [
    "# deep=True by default (Modification to the data or indeces of the original df is not going to be reflected in the copy and viceversa)\n",
    "df_copy = df.copy()"
   ]
  },
  {
   "cell_type": "code",
   "execution_count": 28,
   "id": "65a33503-9f0d-4a48-83f0-8e85d622b132",
   "metadata": {},
   "outputs": [],
   "source": [
    "# update value in original dataframe\n",
    "df.loc[\"L. Messi\", \"height_cm\"] = 190"
   ]
  },
  {
   "cell_type": "code",
   "execution_count": 29,
   "id": "426d2839-9bb2-43a5-82cd-6c5a2020e471",
   "metadata": {},
   "outputs": [
    {
     "name": "stdout",
     "output_type": "stream",
     "text": [
      "long_name      Lionel Andrés Messi Cuccittini\n",
      "age                                        32\n",
      "dob                                1987-06-24\n",
      "height_cm                                 190\n",
      "weight_kg                                  72\n",
      "nationality                         Argentina\n",
      "club                             FC Barcelona\n",
      "Name: L. Messi, dtype: object\n",
      "\n",
      "long_name      Lionel Andrés Messi Cuccittini\n",
      "age                                        32\n",
      "dob                                1987-06-24\n",
      "height_cm                                 170\n",
      "weight_kg                                  72\n",
      "nationality                         Argentina\n",
      "club                             FC Barcelona\n",
      "Name: L. Messi, dtype: object\n"
     ]
    }
   ],
   "source": [
    "print(df.loc[\"L. Messi\"])\n",
    "print()\n",
    "print(df_copy.loc[\"L. Messi\"])"
   ]
  },
  {
   "cell_type": "markdown",
   "id": "ec11b818-1c7b-41f7-b0b1-75fc37facd8c",
   "metadata": {},
   "source": [
    "#### deep = False"
   ]
  },
  {
   "cell_type": "code",
   "execution_count": 30,
   "id": "e6cf1773-325f-4bcf-bff9-1af7c7388d55",
   "metadata": {},
   "outputs": [],
   "source": [
    "# deep=False (Any changes to the data of the original will be reflected and viceversa)\n",
    "df_shallow_copy = df.copy(deep = False)"
   ]
  },
  {
   "cell_type": "code",
   "execution_count": 31,
   "id": "40ba2aae-bef5-448d-8321-5b535a726315",
   "metadata": {},
   "outputs": [],
   "source": [
    "df.loc[\"Cristiano Ronaldo\", \"height_cm\"] = 200"
   ]
  },
  {
   "cell_type": "code",
   "execution_count": 32,
   "id": "660e1645-b256-48d4-8a07-ff7e14fb8020",
   "metadata": {},
   "outputs": [
    {
     "name": "stdout",
     "output_type": "stream",
     "text": [
      "long_name      Cristiano Ronaldo dos Santos Aveiro\n",
      "age                                             34\n",
      "dob                                     1985-02-05\n",
      "height_cm                                      200\n",
      "weight_kg                                       83\n",
      "nationality                               Portugal\n",
      "club                                      Juventus\n",
      "Name: Cristiano Ronaldo, dtype: object\n",
      "\n",
      "long_name      Cristiano Ronaldo dos Santos Aveiro\n",
      "age                                             34\n",
      "dob                                     1985-02-05\n",
      "height_cm                                      200\n",
      "weight_kg                                       83\n",
      "nationality                               Portugal\n",
      "club                                      Juventus\n",
      "Name: Cristiano Ronaldo, dtype: object\n"
     ]
    }
   ],
   "source": [
    "print(df.loc[\"Cristiano Ronaldo\"])\n",
    "print()\n",
    "print(df_shallow_copy.loc[\"Cristiano Ronaldo\"])"
   ]
  },
  {
   "cell_type": "markdown",
   "id": "2ae1f75f-4fa9-453b-9fe7-c06cfca132d1",
   "metadata": {},
   "source": [
    "#### Simple Assignment"
   ]
  },
  {
   "cell_type": "code",
   "execution_count": 34,
   "id": "d14df471-08ed-46c2-a216-92d8ca85bdcf",
   "metadata": {},
   "outputs": [],
   "source": [
    "# make a copy\n",
    "df_new_copy = df"
   ]
  },
  {
   "cell_type": "code",
   "execution_count": 35,
   "id": "ed181690-3c9c-40eb-91e4-796e087cd46d",
   "metadata": {},
   "outputs": [],
   "source": [
    "# update value in original dataframe\n",
    "df.loc[\"Neymar Jr\", \"height_cm\"] = 19"
   ]
  },
  {
   "cell_type": "code",
   "execution_count": 38,
   "id": "01dbc7e6-c9bd-40e5-af19-de45d1d3c133",
   "metadata": {},
   "outputs": [
    {
     "name": "stdout",
     "output_type": "stream",
     "text": [
      "long_name      Neymar da Silva Santos Junior\n",
      "age                                       27\n",
      "dob                               1992-02-05\n",
      "height_cm                                 19\n",
      "weight_kg                                 68\n",
      "nationality                           Brazil\n",
      "club                     Paris Saint-Germain\n",
      "Name: Neymar Jr, dtype: object\n",
      "\n",
      "long_name      Neymar da Silva Santos Junior\n",
      "age                                       27\n",
      "dob                               1992-02-05\n",
      "height_cm                                 19\n",
      "weight_kg                                 68\n",
      "nationality                           Brazil\n",
      "club                     Paris Saint-Germain\n",
      "Name: Neymar Jr, dtype: object\n"
     ]
    }
   ],
   "source": [
    "# copy vs original\n",
    "print(df.loc[\"Neymar Jr\"])\n",
    "print()\n",
    "print(df_new_copy.loc[\"Neymar Jr\"])"
   ]
  },
  {
   "cell_type": "code",
   "execution_count": null,
   "id": "ea5743d9-741f-409c-982d-55d74abf416c",
   "metadata": {},
   "outputs": [],
   "source": []
  }
 ],
 "metadata": {
  "kernelspec": {
   "display_name": "python-starter",
   "language": "python",
   "name": "conda-env-python-starter"
  },
  "language_info": {
   "codemirror_mode": {
    "name": "ipython",
    "version": 3
   },
   "file_extension": ".py",
   "mimetype": "text/x-python",
   "name": "python",
   "nbconvert_exporter": "python",
   "pygments_lexer": "ipython3",
   "version": "3.11.11"
  }
 },
 "nbformat": 4,
 "nbformat_minor": 5
}
