{
 "cells": [
  {
   "cell_type": "code",
   "execution_count": 33,
   "id": "7726680f-5481-4b06-bb48-192f121937b7",
   "metadata": {},
   "outputs": [],
   "source": [
    "import pandas as pd"
   ]
  },
  {
   "cell_type": "code",
   "execution_count": 34,
   "id": "67779c1e-6a29-4d94-8287-5d6eb4e61186",
   "metadata": {},
   "outputs": [],
   "source": [
    "df = pd.read_csv(\"players_20.csv\")\n",
    "df.set_index(\"short_name\", inplace=True)\n",
    "df = df[[\"long_name\",\"age\",\"dob\",\"height_cm\",\"weight_kg\",\"nationality\",\"club\"]]"
   ]
  },
  {
   "cell_type": "code",
   "execution_count": 35,
   "id": "c2c7cc61-8a90-42c1-aa68-6406efe6721a",
   "metadata": {},
   "outputs": [
    {
     "data": {
      "text/html": [
       "<div>\n",
       "<style scoped>\n",
       "    .dataframe tbody tr th:only-of-type {\n",
       "        vertical-align: middle;\n",
       "    }\n",
       "\n",
       "    .dataframe tbody tr th {\n",
       "        vertical-align: top;\n",
       "    }\n",
       "\n",
       "    .dataframe thead th {\n",
       "        text-align: right;\n",
       "    }\n",
       "</style>\n",
       "<table border=\"1\" class=\"dataframe\">\n",
       "  <thead>\n",
       "    <tr style=\"text-align: right;\">\n",
       "      <th></th>\n",
       "      <th>long_name</th>\n",
       "      <th>age</th>\n",
       "      <th>dob</th>\n",
       "      <th>height_cm</th>\n",
       "      <th>weight_kg</th>\n",
       "      <th>nationality</th>\n",
       "      <th>club</th>\n",
       "    </tr>\n",
       "    <tr>\n",
       "      <th>short_name</th>\n",
       "      <th></th>\n",
       "      <th></th>\n",
       "      <th></th>\n",
       "      <th></th>\n",
       "      <th></th>\n",
       "      <th></th>\n",
       "      <th></th>\n",
       "    </tr>\n",
       "  </thead>\n",
       "  <tbody>\n",
       "    <tr>\n",
       "      <th>L. Messi</th>\n",
       "      <td>Lionel Andrés Messi Cuccittini</td>\n",
       "      <td>32</td>\n",
       "      <td>1987-06-24</td>\n",
       "      <td>170</td>\n",
       "      <td>72</td>\n",
       "      <td>Argentina</td>\n",
       "      <td>FC Barcelona</td>\n",
       "    </tr>\n",
       "    <tr>\n",
       "      <th>Cristiano Ronaldo</th>\n",
       "      <td>Cristiano Ronaldo dos Santos Aveiro</td>\n",
       "      <td>34</td>\n",
       "      <td>1985-02-05</td>\n",
       "      <td>187</td>\n",
       "      <td>83</td>\n",
       "      <td>Portugal</td>\n",
       "      <td>Juventus</td>\n",
       "    </tr>\n",
       "    <tr>\n",
       "      <th>Neymar Jr</th>\n",
       "      <td>Neymar da Silva Santos Junior</td>\n",
       "      <td>27</td>\n",
       "      <td>1992-02-05</td>\n",
       "      <td>175</td>\n",
       "      <td>68</td>\n",
       "      <td>Brazil</td>\n",
       "      <td>Paris Saint-Germain</td>\n",
       "    </tr>\n",
       "  </tbody>\n",
       "</table>\n",
       "</div>"
      ],
      "text/plain": [
       "                                             long_name  age         dob  \\\n",
       "short_name                                                                \n",
       "L. Messi                Lionel Andrés Messi Cuccittini   32  1987-06-24   \n",
       "Cristiano Ronaldo  Cristiano Ronaldo dos Santos Aveiro   34  1985-02-05   \n",
       "Neymar Jr                Neymar da Silva Santos Junior   27  1992-02-05   \n",
       "\n",
       "                   height_cm  weight_kg nationality                 club  \n",
       "short_name                                                                \n",
       "L. Messi                 170         72   Argentina         FC Barcelona  \n",
       "Cristiano Ronaldo        187         83    Portugal             Juventus  \n",
       "Neymar Jr                175         68      Brazil  Paris Saint-Germain  "
      ]
     },
     "execution_count": 35,
     "metadata": {},
     "output_type": "execute_result"
    }
   ],
   "source": [
    "df.head(3)"
   ]
  },
  {
   "cell_type": "markdown",
   "id": "719a6fb2-80bc-4dd7-b750-8b65d814d7c4",
   "metadata": {},
   "source": [
    "# Lambda function"
   ]
  },
  {
   "cell_type": "code",
   "execution_count": 36,
   "id": "ce94de8d-b563-4cbb-9581-ee6ed6a70425",
   "metadata": {},
   "outputs": [],
   "source": [
    "# basic function\n",
    "def sum_values(a, b):\n",
    "    x = a + b\n",
    "    return x"
   ]
  },
  {
   "cell_type": "code",
   "execution_count": 37,
   "id": "190777df-f914-43a7-804e-337d709f4d35",
   "metadata": {},
   "outputs": [
    {
     "data": {
      "text/plain": [
       "5"
      ]
     },
     "execution_count": 37,
     "metadata": {},
     "output_type": "execute_result"
    }
   ],
   "source": [
    "sum_values(2,3)"
   ]
  },
  {
   "cell_type": "code",
   "execution_count": 38,
   "id": "2ff12566-6f93-4223-ae6b-42fa9c27e3ff",
   "metadata": {},
   "outputs": [],
   "source": [
    "# lambda function\n",
    "# temporary function for one use, to semplify things\n",
    "sum_values_lambda = lambda a,b : a+b"
   ]
  },
  {
   "cell_type": "code",
   "execution_count": 39,
   "id": "2c42da98-e316-4eb4-b218-d6f67934e2d4",
   "metadata": {},
   "outputs": [
    {
     "data": {
      "text/plain": [
       "6"
      ]
     },
     "execution_count": 39,
     "metadata": {},
     "output_type": "execute_result"
    }
   ],
   "source": [
    "sum_values_lambda(2, 4)"
   ]
  },
  {
   "cell_type": "markdown",
   "id": "2d570aae-26d1-4bee-896e-573e6ef3b16d",
   "metadata": {},
   "source": [
    "# apply() + Lambda function"
   ]
  },
  {
   "cell_type": "code",
   "execution_count": 40,
   "id": "f58ca76c-1af7-492a-acb7-f834fec54acc",
   "metadata": {},
   "outputs": [
    {
     "data": {
      "text/plain": [
       "short_name\n",
       "L. Messi             1.70\n",
       "Cristiano Ronaldo    1.87\n",
       "Neymar Jr            1.75\n",
       "J. Oblak             1.88\n",
       "E. Hazard            1.75\n",
       "                     ... \n",
       "Shao Shuai           1.86\n",
       "Xiao Mingjie         1.77\n",
       "Zhang Wei            1.86\n",
       "Wang Haijian         1.85\n",
       "Pan Ximing           1.82\n",
       "Name: height_cm, Length: 18278, dtype: float64"
      ]
     },
     "execution_count": 40,
     "metadata": {},
     "output_type": "execute_result"
    }
   ],
   "source": [
    "# use lambda function to convert \"height_cm\" series to meter\n",
    "# there are some cases when this is more usefull\n",
    "df[\"height_cm\"].apply(lambda x:x/100)\n",
    "# alternative\n",
    "df[\"height_cm\"]/100"
   ]
  },
  {
   "cell_type": "code",
   "execution_count": 41,
   "id": "ab3e9b02-0148-4f0f-bd7c-28ce2ab5e698",
   "metadata": {},
   "outputs": [
    {
     "data": {
      "text/plain": [
       "short_name\n",
       "L. Messi                  LIONEL ANDRÉS MESSI CUCCITTINI\n",
       "Cristiano Ronaldo    CRISTIANO RONALDO DOS SANTOS AVEIRO\n",
       "Neymar Jr                  NEYMAR DA SILVA SANTOS JUNIOR\n",
       "J. Oblak                                       JAN OBLAK\n",
       "E. Hazard                                    EDEN HAZARD\n",
       "                                    ...                 \n",
       "Shao Shuai                                            邵帅\n",
       "Xiao Mingjie                                MINGJIE XIAO\n",
       "Zhang Wei                                             张威\n",
       "Wang Haijian                                         汪海健\n",
       "Pan Ximing                                           潘喜明\n",
       "Name: long_name, Length: 18278, dtype: object"
      ]
     },
     "execution_count": 41,
     "metadata": {},
     "output_type": "execute_result"
    }
   ],
   "source": [
    "# use lambda function to convert \"long_name\" series to upper case\n",
    "# lambda is usefull if u dont remember all the attributes\n",
    "df[\"long_name\"].apply(lambda x:x.upper())\n",
    "# alternative\n",
    "df[\"long_name\"].str.upper()"
   ]
  },
  {
   "cell_type": "code",
   "execution_count": 42,
   "id": "00a14e8e-12cc-4ff0-b0a5-7e6882033f22",
   "metadata": {},
   "outputs": [
    {
     "data": {
      "text/plain": [
       "short_name\n",
       "L. Messi             1987\n",
       "Cristiano Ronaldo    1985\n",
       "Neymar Jr            1992\n",
       "J. Oblak             1993\n",
       "E. Hazard            1991\n",
       "                     ... \n",
       "Shao Shuai           1997\n",
       "Xiao Mingjie         1997\n",
       "Zhang Wei            2000\n",
       "Wang Haijian         2000\n",
       "Pan Ximing           1993\n",
       "Name: dob, Length: 18278, dtype: int32"
      ]
     },
     "execution_count": 42,
     "metadata": {},
     "output_type": "execute_result"
    }
   ],
   "source": [
    "df[\"dob\"] = df[\"dob\"].astype(\"datetime64[ns]\")\n",
    "# use lambda function to get the year of the \"dob\" series\n",
    "df[\"dob\"].apply(lambda x:x.year)\n",
    "# alternative\n",
    "df[\"dob\"].dt.year"
   ]
  },
  {
   "cell_type": "code",
   "execution_count": 43,
   "id": "cb913fbc-a872-480c-aee4-0ac64ce6736c",
   "metadata": {},
   "outputs": [
    {
     "data": {
      "text/plain": [
       "short_name\n",
       "L. Messi             24.913495\n",
       "Cristiano Ronaldo    23.735308\n",
       "Neymar Jr            22.204082\n",
       "J. Oblak             24.615211\n",
       "E. Hazard            24.163265\n",
       "                       ...    \n",
       "Shao Shuai           22.835010\n",
       "Xiao Mingjie         21.066743\n",
       "Zhang Wei            21.678807\n",
       "Wang Haijian         21.621622\n",
       "Pan Ximing           23.547881\n",
       "Length: 18278, dtype: float64"
      ]
     },
     "execution_count": 43,
     "metadata": {},
     "output_type": "execute_result"
    }
   ],
   "source": [
    "# apply lambda function to dataframe in order to calculate bmi\n",
    "df.apply(lambda x: x[\"weight_kg\"]/((x[\"height_cm\"]/100)**2), axis=1)"
   ]
  },
  {
   "cell_type": "code",
   "execution_count": 44,
   "id": "bb5c02d3-4b0c-44cb-890a-f1604773599e",
   "metadata": {},
   "outputs": [],
   "source": [
    "df[\"bmi\"] = df.apply(lambda x: x[\"weight_kg\"]/((x[\"height_cm\"]/100)**2), axis=1)"
   ]
  },
  {
   "cell_type": "code",
   "execution_count": 45,
   "id": "5ed4be2a-b212-4c02-8ea9-ee842e483e89",
   "metadata": {},
   "outputs": [
    {
     "data": {
      "text/html": [
       "<div>\n",
       "<style scoped>\n",
       "    .dataframe tbody tr th:only-of-type {\n",
       "        vertical-align: middle;\n",
       "    }\n",
       "\n",
       "    .dataframe tbody tr th {\n",
       "        vertical-align: top;\n",
       "    }\n",
       "\n",
       "    .dataframe thead th {\n",
       "        text-align: right;\n",
       "    }\n",
       "</style>\n",
       "<table border=\"1\" class=\"dataframe\">\n",
       "  <thead>\n",
       "    <tr style=\"text-align: right;\">\n",
       "      <th></th>\n",
       "      <th>long_name</th>\n",
       "      <th>age</th>\n",
       "      <th>dob</th>\n",
       "      <th>height_cm</th>\n",
       "      <th>weight_kg</th>\n",
       "      <th>nationality</th>\n",
       "      <th>club</th>\n",
       "      <th>bmi</th>\n",
       "    </tr>\n",
       "    <tr>\n",
       "      <th>short_name</th>\n",
       "      <th></th>\n",
       "      <th></th>\n",
       "      <th></th>\n",
       "      <th></th>\n",
       "      <th></th>\n",
       "      <th></th>\n",
       "      <th></th>\n",
       "      <th></th>\n",
       "    </tr>\n",
       "  </thead>\n",
       "  <tbody>\n",
       "    <tr>\n",
       "      <th>L. Messi</th>\n",
       "      <td>Lionel Andrés Messi Cuccittini</td>\n",
       "      <td>32</td>\n",
       "      <td>1987-06-24</td>\n",
       "      <td>170</td>\n",
       "      <td>72</td>\n",
       "      <td>Argentina</td>\n",
       "      <td>FC Barcelona</td>\n",
       "      <td>24.913495</td>\n",
       "    </tr>\n",
       "    <tr>\n",
       "      <th>Cristiano Ronaldo</th>\n",
       "      <td>Cristiano Ronaldo dos Santos Aveiro</td>\n",
       "      <td>34</td>\n",
       "      <td>1985-02-05</td>\n",
       "      <td>187</td>\n",
       "      <td>83</td>\n",
       "      <td>Portugal</td>\n",
       "      <td>Juventus</td>\n",
       "      <td>23.735308</td>\n",
       "    </tr>\n",
       "    <tr>\n",
       "      <th>Neymar Jr</th>\n",
       "      <td>Neymar da Silva Santos Junior</td>\n",
       "      <td>27</td>\n",
       "      <td>1992-02-05</td>\n",
       "      <td>175</td>\n",
       "      <td>68</td>\n",
       "      <td>Brazil</td>\n",
       "      <td>Paris Saint-Germain</td>\n",
       "      <td>22.204082</td>\n",
       "    </tr>\n",
       "    <tr>\n",
       "      <th>J. Oblak</th>\n",
       "      <td>Jan Oblak</td>\n",
       "      <td>26</td>\n",
       "      <td>1993-01-07</td>\n",
       "      <td>188</td>\n",
       "      <td>87</td>\n",
       "      <td>Slovenia</td>\n",
       "      <td>Atlético Madrid</td>\n",
       "      <td>24.615211</td>\n",
       "    </tr>\n",
       "    <tr>\n",
       "      <th>E. Hazard</th>\n",
       "      <td>Eden Hazard</td>\n",
       "      <td>28</td>\n",
       "      <td>1991-01-07</td>\n",
       "      <td>175</td>\n",
       "      <td>74</td>\n",
       "      <td>Belgium</td>\n",
       "      <td>Real Madrid</td>\n",
       "      <td>24.163265</td>\n",
       "    </tr>\n",
       "  </tbody>\n",
       "</table>\n",
       "</div>"
      ],
      "text/plain": [
       "                                             long_name  age        dob  \\\n",
       "short_name                                                               \n",
       "L. Messi                Lionel Andrés Messi Cuccittini   32 1987-06-24   \n",
       "Cristiano Ronaldo  Cristiano Ronaldo dos Santos Aveiro   34 1985-02-05   \n",
       "Neymar Jr                Neymar da Silva Santos Junior   27 1992-02-05   \n",
       "J. Oblak                                     Jan Oblak   26 1993-01-07   \n",
       "E. Hazard                                  Eden Hazard   28 1991-01-07   \n",
       "\n",
       "                   height_cm  weight_kg nationality                 club  \\\n",
       "short_name                                                                 \n",
       "L. Messi                 170         72   Argentina         FC Barcelona   \n",
       "Cristiano Ronaldo        187         83    Portugal             Juventus   \n",
       "Neymar Jr                175         68      Brazil  Paris Saint-Germain   \n",
       "J. Oblak                 188         87    Slovenia      Atlético Madrid   \n",
       "E. Hazard                175         74     Belgium          Real Madrid   \n",
       "\n",
       "                         bmi  \n",
       "short_name                    \n",
       "L. Messi           24.913495  \n",
       "Cristiano Ronaldo  23.735308  \n",
       "Neymar Jr          22.204082  \n",
       "J. Oblak           24.615211  \n",
       "E. Hazard          24.163265  "
      ]
     },
     "execution_count": 45,
     "metadata": {},
     "output_type": "execute_result"
    }
   ],
   "source": [
    "df.head()"
   ]
  },
  {
   "cell_type": "code",
   "execution_count": null,
   "id": "03361726-0363-4003-b58e-ac8ecf4b4d09",
   "metadata": {},
   "outputs": [],
   "source": []
  }
 ],
 "metadata": {
  "kernelspec": {
   "display_name": "python-starter",
   "language": "python",
   "name": "conda-env-python-starter"
  },
  "language_info": {
   "codemirror_mode": {
    "name": "ipython",
    "version": 3
   },
   "file_extension": ".py",
   "mimetype": "text/x-python",
   "name": "python",
   "nbconvert_exporter": "python",
   "pygments_lexer": "ipython3",
   "version": "3.11.11"
  }
 },
 "nbformat": 4,
 "nbformat_minor": 5
}
