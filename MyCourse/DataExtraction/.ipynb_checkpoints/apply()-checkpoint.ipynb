{
 "cells": [
  {
   "cell_type": "code",
   "execution_count": 1,
   "id": "c8089bda-60ad-480c-bc9a-30e67403c406",
   "metadata": {},
   "outputs": [],
   "source": [
    "import pandas as pd"
   ]
  },
  {
   "cell_type": "code",
   "execution_count": 4,
   "id": "d36b4024-b311-45ef-b471-fc8a6bb42718",
   "metadata": {},
   "outputs": [],
   "source": [
    "df = pd.read_csv(\"players_20.csv\")\n",
    "df.set_index(\"short_name\", inplace = True)\n",
    "df = df[[\"long_name\",\"age\",\"dob\",\"height_cm\",\"weight_kg\",\"nationality\",\"club\"]]"
   ]
  },
  {
   "cell_type": "code",
   "execution_count": 5,
   "id": "ff9c27eb-31b4-4c11-acb5-7c09cd1887f6",
   "metadata": {},
   "outputs": [
    {
     "data": {
      "text/html": [
       "<div>\n",
       "<style scoped>\n",
       "    .dataframe tbody tr th:only-of-type {\n",
       "        vertical-align: middle;\n",
       "    }\n",
       "\n",
       "    .dataframe tbody tr th {\n",
       "        vertical-align: top;\n",
       "    }\n",
       "\n",
       "    .dataframe thead th {\n",
       "        text-align: right;\n",
       "    }\n",
       "</style>\n",
       "<table border=\"1\" class=\"dataframe\">\n",
       "  <thead>\n",
       "    <tr style=\"text-align: right;\">\n",
       "      <th></th>\n",
       "      <th>long_name</th>\n",
       "      <th>age</th>\n",
       "      <th>dob</th>\n",
       "      <th>height_cm</th>\n",
       "      <th>weight_kg</th>\n",
       "      <th>nationality</th>\n",
       "      <th>club</th>\n",
       "    </tr>\n",
       "    <tr>\n",
       "      <th>short_name</th>\n",
       "      <th></th>\n",
       "      <th></th>\n",
       "      <th></th>\n",
       "      <th></th>\n",
       "      <th></th>\n",
       "      <th></th>\n",
       "      <th></th>\n",
       "    </tr>\n",
       "  </thead>\n",
       "  <tbody>\n",
       "    <tr>\n",
       "      <th>L. Messi</th>\n",
       "      <td>Lionel Andrés Messi Cuccittini</td>\n",
       "      <td>32</td>\n",
       "      <td>1987-06-24</td>\n",
       "      <td>170</td>\n",
       "      <td>72</td>\n",
       "      <td>Argentina</td>\n",
       "      <td>FC Barcelona</td>\n",
       "    </tr>\n",
       "    <tr>\n",
       "      <th>Cristiano Ronaldo</th>\n",
       "      <td>Cristiano Ronaldo dos Santos Aveiro</td>\n",
       "      <td>34</td>\n",
       "      <td>1985-02-05</td>\n",
       "      <td>187</td>\n",
       "      <td>83</td>\n",
       "      <td>Portugal</td>\n",
       "      <td>Juventus</td>\n",
       "    </tr>\n",
       "    <tr>\n",
       "      <th>Neymar Jr</th>\n",
       "      <td>Neymar da Silva Santos Junior</td>\n",
       "      <td>27</td>\n",
       "      <td>1992-02-05</td>\n",
       "      <td>175</td>\n",
       "      <td>68</td>\n",
       "      <td>Brazil</td>\n",
       "      <td>Paris Saint-Germain</td>\n",
       "    </tr>\n",
       "  </tbody>\n",
       "</table>\n",
       "</div>"
      ],
      "text/plain": [
       "                                             long_name  age         dob  \\\n",
       "short_name                                                                \n",
       "L. Messi                Lionel Andrés Messi Cuccittini   32  1987-06-24   \n",
       "Cristiano Ronaldo  Cristiano Ronaldo dos Santos Aveiro   34  1985-02-05   \n",
       "Neymar Jr                Neymar da Silva Santos Junior   27  1992-02-05   \n",
       "\n",
       "                   height_cm  weight_kg nationality                 club  \n",
       "short_name                                                                \n",
       "L. Messi                 170         72   Argentina         FC Barcelona  \n",
       "Cristiano Ronaldo        187         83    Portugal             Juventus  \n",
       "Neymar Jr                175         68      Brazil  Paris Saint-Germain  "
      ]
     },
     "execution_count": 5,
     "metadata": {},
     "output_type": "execute_result"
    }
   ],
   "source": [
    "df.head(3)"
   ]
  },
  {
   "cell_type": "markdown",
   "id": "ee1bda11-2bfb-4852-ace9-956f1b2008da",
   "metadata": {},
   "source": [
    "# apply()"
   ]
  },
  {
   "cell_type": "code",
   "execution_count": 8,
   "id": "c5988ff1-33f6-4eba-8c9d-823e64aa1323",
   "metadata": {},
   "outputs": [
    {
     "data": {
      "text/plain": [
       "short_name\n",
       "L. Messi             5.656854\n",
       "Cristiano Ronaldo    5.830952\n",
       "Neymar Jr            5.196152\n",
       "J. Oblak             5.099020\n",
       "E. Hazard            5.291503\n",
       "                       ...   \n",
       "Shao Shuai           4.690416\n",
       "Xiao Mingjie         4.690416\n",
       "Zhang Wei            4.358899\n",
       "Wang Haijian         4.242641\n",
       "Pan Ximing           5.099020\n",
       "Name: age, Length: 18278, dtype: float64"
      ]
     },
     "execution_count": 8,
     "metadata": {},
     "output_type": "execute_result"
    }
   ],
   "source": [
    "# use numpy function to apply it to series\n",
    "import numpy as np\n",
    "df[\"age\"].apply(np.sqrt)"
   ]
  },
  {
   "cell_type": "code",
   "execution_count": 10,
   "id": "ffd21647-66ea-42f2-8896-6eab11d5d1cb",
   "metadata": {},
   "outputs": [],
   "source": [
    "# create a function and apply it to dataframe\n",
    "# kg/m2\n",
    "\n",
    "def calculate_bmi(row):\n",
    "    return row[\"weight_kg\"] / (row[\"height_cm\"]/100)**2"
   ]
  },
  {
   "cell_type": "code",
   "execution_count": 13,
   "id": "d71c1fc6-74ee-4e34-a178-8220b7108be6",
   "metadata": {},
   "outputs": [
    {
     "data": {
      "text/plain": [
       "short_name\n",
       "L. Messi             24.913495\n",
       "Cristiano Ronaldo    23.735308\n",
       "Neymar Jr            22.204082\n",
       "J. Oblak             24.615211\n",
       "E. Hazard            24.163265\n",
       "                       ...    \n",
       "Shao Shuai           22.835010\n",
       "Xiao Mingjie         21.066743\n",
       "Zhang Wei            21.678807\n",
       "Wang Haijian         21.621622\n",
       "Pan Ximing           23.547881\n",
       "Length: 18278, dtype: float64"
      ]
     },
     "execution_count": 13,
     "metadata": {},
     "output_type": "execute_result"
    }
   ],
   "source": [
    "df.apply(calculate_bmi, axis=1)"
   ]
  },
  {
   "cell_type": "code",
   "execution_count": null,
   "id": "a0cbcb72-b82e-495b-abba-0c7025855120",
   "metadata": {},
   "outputs": [],
   "source": []
  }
 ],
 "metadata": {
  "kernelspec": {
   "display_name": "python-starter",
   "language": "python",
   "name": "conda-env-python-starter"
  },
  "language_info": {
   "codemirror_mode": {
    "name": "ipython",
    "version": 3
   },
   "file_extension": ".py",
   "mimetype": "text/x-python",
   "name": "python",
   "nbconvert_exporter": "python",
   "pygments_lexer": "ipython3",
   "version": "3.11.11"
  }
 },
 "nbformat": 4,
 "nbformat_minor": 5
}
